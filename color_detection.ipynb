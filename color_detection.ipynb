{
 "cells": [
  {
   "cell_type": "code",
   "execution_count": 13,
   "metadata": {},
   "outputs": [],
   "source": [
    "%matplotlib inline\n",
    "from colorthief import ColorThief\n",
    "# https://github.com/fengsp/color-thief-py"
   ]
  },
  {
   "cell_type": "code",
   "execution_count": 14,
   "metadata": {},
   "outputs": [
    {
     "data": {
      "text/plain": [
       "<colorthief.ColorThief at 0x1191b9310>"
      ]
     },
     "execution_count": 14,
     "metadata": {},
     "output_type": "execute_result"
    }
   ],
   "source": [
    "color_thief = ColorThief('dog.jpg')\n",
    "color_thief"
   ]
  },
  {
   "cell_type": "code",
   "execution_count": 15,
   "metadata": {},
   "outputs": [
    {
     "data": {
      "text/plain": [
       "(203, 201, 197)"
      ]
     },
     "execution_count": 15,
     "metadata": {},
     "output_type": "execute_result"
    }
   ],
   "source": [
    "# get the dominant color\n",
    "dominant_color = color_thief.get_color(quality=1)\n",
    "dominant_color"
   ]
  },
  {
   "cell_type": "code",
   "execution_count": 16,
   "metadata": {},
   "outputs": [
    {
     "data": {
      "text/plain": [
       "[(57, 68, 33),\n",
       " (205, 204, 204),\n",
       " (130, 132, 63),\n",
       " (125, 128, 119),\n",
       " (180, 161, 108),\n",
       " (100, 95, 100)]"
      ]
     },
     "execution_count": 16,
     "metadata": {},
     "output_type": "execute_result"
    }
   ],
   "source": [
    "# build a color palette\n",
    "palette = color_thief.get_palette(color_count=6)\n",
    "palette"
   ]
  },
  {
   "cell_type": "code",
   "execution_count": 20,
   "metadata": {},
   "outputs": [
    {
     "data": {
      "image/png": "[encoded data removed]",
      "text/plain": [
       "<Figure size 432x288 with 1 Axes>"
      ]
     },
     "metadata": {
      "needs_background": "light"
     },
     "output_type": "display_data"
    }
   ],
   "source": [
    "\n",
    "import matplotlib\n",
    "import numpy as np\n",
    "import matplotlib.pyplot as plt \n",
    "fig = plt.figure()\n",
    "ax = fig.add_subplot(111)\n",
    "\n",
    "M_size = 6\n",
    "M = np.array([[57, 68, 33],\n",
    " [205, 204, 204],\n",
    " [130, 132, 63],\n",
    " [125, 128, 119],\n",
    " [180, 161, 108],\n",
    " [100, 95, 100]])\n",
    "M_size = 1\n",
    "M = np.array([[203, 201, 197]])\n",
    "for i in range(M_size):\n",
    "    colorval = \"#%02x%02x%02x\" % (int(M[i][0]), int(M[i][1]), int(M[i][2]))\n",
    "    rect = matplotlib.patches.Rectangle((-200+i*200,-100),200,200, color=colorval)\n",
    "    ax.add_patch(rect)\n",
    "plt.axis('off')\n",
    "plt.xlim([-200,1200])\n",
    "plt.ylim([-100,100])\n",
    "plt.show()"
   ]
  }
 ],
 "metadata": {
  "kernelspec": {
   "display_name": "Python 2",
   "language": "python",
   "name": "python2"
  },
  "language_info": {
   "codemirror_mode": {
    "name": "ipython",
    "version": 2
   },
   "file_extension": ".py",
   "mimetype": "text/x-python",
   "name": "python",
   "nbconvert_exporter": "python",
   "pygments_lexer": "ipython2",
   "version": "2.7.16"
  }
 },
 "nbformat": 4,
 "nbformat_minor": 2
}
