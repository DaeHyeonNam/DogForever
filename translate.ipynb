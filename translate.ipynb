{
 "cells": [
  {
   "cell_type": "markdown",
   "metadata": {},
   "source": [
    "# 한국어 텍스트 -> 영어 텍스트로 변환"
   ]
  },
  {
   "cell_type": "code",
   "execution_count": 34,
   "metadata": {},
   "outputs": [
    {
     "name": "stdout",
     "output_type": "stream",
     "text": [
      "result = Hello.\n"
     ]
    }
   ],
   "source": [
    "# HTTP Post\n",
    "# https://apidocs.ncloud.com/ko/ai-naver/papago_nmt/translation/\n",
    "\n",
    "import requests\n",
    "import json\n",
    "\n",
    "def translate(input_txt, source=\"ko\", target=\"en\"):\n",
    "    cloud_url = \"https://naveropenapi.apigw.ntruss.com/nmt/v1/translation\"\n",
    "    r = requests.post(cloud_url,\n",
    "                      headers={\"X-NCP-APIGW-API-KEY-ID\":\"ikoxgv3qyf\",\n",
    "                               \"X-NCP-APIGW-API-KEY\":\"SfjIg59wfjz43peNO3yLy0XO152qJ7EU4uEGZTAX\"},\n",
    "                      data={\"source\": source, \"target\": target, \"text\": input_txt})    \n",
    "    info = json.loads(r.text)\n",
    "    return info[\"message\"][\"result\"][\"translatedText\"]\n",
    "\n",
    "if __name__=='__main__':\n",
    "    print \"result = \" + translate(\"안녕하세요\")\n",
    "    "
   ]
  }
 ],
 "metadata": {
  "kernelspec": {
   "display_name": "Python 2",
   "language": "python",
   "name": "python2"
  },
  "language_info": {
   "codemirror_mode": {
    "name": "ipython",
    "version": 2
   },
   "file_extension": ".py",
   "mimetype": "text/x-python",
   "name": "python",
   "nbconvert_exporter": "python",
   "pygments_lexer": "ipython2",
   "version": "2.7.16"
  }
 },
 "nbformat": 4,
 "nbformat_minor": 2
}
