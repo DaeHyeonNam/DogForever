{
 "cells": [
  {
   "cell_type": "code",
   "execution_count": null,
   "metadata": {},
   "outputs": [],
   "source": [
    "# ERROR....just saving for reference purpose. (ignore this cell)\n",
    "\n",
    "import requests\n",
    "import json\n",
    "import base64\n",
    "\n",
    "user = \"Z4IB6U\"\n",
    "_id = \"4SWovvGPHm4FhG9qAT6ERk\"\n",
    "url = \"http://%s/photo/%s/?hashCodes=%s&width=300\" % (\"47.74.149.35/api\", _id, user)\n",
    "print(url)\n",
    "r = requests.get(url)\n",
    "# print(\"type = %s\" % type(r.text))\n",
    "# print(r.text)\n",
    "print(\"type of r = %s\" % type(r))\n",
    "'''\n",
    "reqData = json.loads(r.data)\n",
    "Logo = reqData['logo']\n",
    "png_recovered = base64.decodestring(Logo)\n",
    "f = open(\"temp.png\", \"w\")\n",
    "f.write(png_recovered)\n",
    "f.close()\n",
    "'''\n",
    "'''\n",
    "blob string\n",
    "fdfdfd = createObjectWithURL(string) - javascript\n",
    "img.src = fdfdfdf\n",
    "view-source:http://www.zepetotime.com/explorer/ => source view.\n",
    "'''"
   ]
  },
  {
   "cell_type": "code",
   "execution_count": null,
   "metadata": {},
   "outputs": [],
   "source": [
    "# concatenate multiple videos & show video"
   ]
  },
  {
   "cell_type": "code",
   "execution_count": null,
   "metadata": {},
   "outputs": [],
   "source": [
    "from moviepy.editor import *\n",
    "import io\n",
    "import base64\n",
    "from IPython.display import HTML"
   ]
  },
  {
   "cell_type": "code",
   "execution_count": null,
   "metadata": {},
   "outputs": [],
   "source": [
    "def produceVideo(clip_list): \n",
    "    # input format = ['ANI_74', 'ANI_67', ....]\n",
    "    # assume that clips are saved locally as ANI_74.MOV, ANI_67.MOV, ...\n",
    "    if not clip_list:\n",
    "        print(\"NO CLIPS\")\n",
    "        return None\n",
    "    clip = clip_list[0]\n",
    "    for i in range(len(clip_list)):\n",
    "        if i < len(clip_list)-1:\n",
    "            clip = concatenate(clip+\".mp4\", clip_list[i+1]+\".mp4\")\n",
    "    return clip\n",
    "                \n",
    "def concatenateVideo(path_to_clip1='clip1.mp4', path_to_clip2='clip2.mp4', path_to_output='render.mp4'):\n",
    "    # clip1 + clip2 => output\n",
    "    clip1 = VideoFileClip(path_to_clip1)\n",
    "    clip2 = VideoFileClip(path_to_clip2)\n",
    "    finalrender = concatenate_videoclips([clip1, clip2])\n",
    "    finalrender.write_videofile(path_to_output, codec='libx264')\n",
    "    return path_to_output\n",
    "\n",
    "def showVideo(path_to_video='render.mp4'):\n",
    "    video = io.open(path_to_video, 'r+b').read()\n",
    "    encoded = base64.b64encode(video)\n",
    "    HTML(data='''<video alt=\"test\" controls>\n",
    "    <source src=\"data:video/mp4;base64,{0}\" type=\"video/mp4\" />\n",
    "    </video>'''.format(encoded.decode('ascii')))"
   ]
  },
  {
   "cell_type": "code",
   "execution_count": null,
   "metadata": {},
   "outputs": [],
   "source": [
    "path_to_resultVideo = produceVideo(['clip1', 'clip2'])"
   ]
  },
  {
   "cell_type": "code",
   "execution_count": null,
   "metadata": {},
   "outputs": [],
   "source": [
    "video = io.open(path_to_resultVideo, 'r+b').read()\n",
    "encoded = base64.b64encode(video)\n",
    "HTML(data='''<video alt=\"test\" controls>\n",
    "<source src=\"data:video/mp4;base64,{0}\" type=\"video/mp4\" />\n",
    "</video>'''.format(encoded.decode('ascii')))\n",
    "    \n",
    "    \n",
    "# 행동하면서 낭독까지??? videobooth \n",
    "# 비디오부스를 뭐로 분류할지? 소팅 --> 서칭이 안되니까.\n",
    "# 거기서도 라벨링은 수동으로 : 감정은 아직. 기본적 행동만. 현재는. 대분류 - 소분류 고민중.\n",
    "# ㅇㄹㅇㄹㅇㄹㅇㄹㅇㄹ: 어떻게 한꺼번에 다운???\n",
    "# 디자인은 이렇게 하겠습니다. "
   ]
  }
 ],
 "metadata": {
  "kernelspec": {
   "display_name": "Python 2",
   "language": "python",
   "name": "python2"
  },
  "language_info": {
   "codemirror_mode": {
    "name": "ipython",
    "version": 2
   },
   "file_extension": ".py",
   "mimetype": "text/x-python",
   "name": "python",
   "nbconvert_exporter": "python",
   "pygments_lexer": "ipython2",
   "version": "2.7.16"
  }
 },
 "nbformat": 4,
 "nbformat_minor": 2
}
