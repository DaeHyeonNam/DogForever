{
 "cells": [
  {
   "cell_type": "code",
   "execution_count": 22,
   "metadata": {},
   "outputs": [],
   "source": [
    "import numpy as np\n",
    "\n",
    "import re # 텍스트 전처리\n",
    "\n",
    "import csv, random\n",
    "\n",
    "from gensim.models import KeyedVectors # 미리 훈련된 단어 벡터 읽기"
   ]
  },
  {
   "cell_type": "code",
   "execution_count": 2,
   "metadata": {},
   "outputs": [
    {
     "name": "stdout",
     "output_type": "stream",
     "text": [
      "--2019-05-11 16:51:16--  https://s3.amazonaws.com/dl4j-distribution/GoogleNews-vectors-negative300.bin.gz\n",
      "Resolving s3.amazonaws.com... 52.216.233.117\n",
      "Connecting to s3.amazonaws.com|52.216.233.117|:443... connected.\n",
      "HTTP request sent, awaiting response... 200 OK\n",
      "Length: 1647046227 (1.5G) [application/x-gzip]\n",
      "Saving to: 'GoogleNews-vectors-negative300.bin.gz'\n",
      "\n",
      "GoogleNews-vectors- 100%[===================>]   1.53G   593KB/s    in 44m 47s \n",
      "\n",
      "2019-05-11 17:36:05 (599 KB/s) - 'GoogleNews-vectors-negative300.bin.gz' saved [1647046227/1647046227]\n",
      "\n"
     ]
    }
   ],
   "source": [
    "!wget -c \"https://s3.amazonaws.com/dl4j-distribution/GoogleNews-vectors-negative300.bin.gz\""
   ]
  },
  {
   "cell_type": "code",
   "execution_count": 55,
   "metadata": {},
   "outputs": [],
   "source": [
    "FILENAME = \"GoogleNews-vectors-negative300.bin.gz\"\n",
    "w2v_mod = KeyedVectors.load_word2vec_format(FILENAME, binary=True, limit=300000)"
   ]
  },
  {
   "cell_type": "code",
   "execution_count": 230,
   "metadata": {},
   "outputs": [],
   "source": [
    "# TODO get keywords\n",
    "# 변수 설명\n",
    "# idx: word에 해당하는 index에 대해서  motion 번호를 입력해둠\n",
    "# word: tag 단어들\n",
    "# path: 각 모션의 path, 추후 api 사용하게 될 시에 필요함\n",
    "\n",
    "keywords = ['play', 'cellphone', 'game', 'teammates', 'knowing']\n",
    "def most_relevant_tag(keywords):\n",
    "    f = open('data.csv', 'r', encoding='utf-8')\n",
    "    rdr = csv.reader(f)\n",
    "\n",
    "    words = []\n",
    "    path = []\n",
    "    idx = []\n",
    "\n",
    "    for i, line in enumerate(rdr):\n",
    "        n = 0\n",
    "        tmp = line[2:]\n",
    "        for w in tmp:\n",
    "            try:\n",
    "                w2v_mod[w]\n",
    "            except KeyError:\n",
    "                pass\n",
    "            else:\n",
    "                if w not in words and w != '':\n",
    "                    words.append(w)\n",
    "                    idx.append([i])\n",
    "                    n = n + 1\n",
    "                elif w != '':\n",
    "                    idx[words.index(w)].append(i)\n",
    "        path.append(line[1])\n",
    "\n",
    "    f.close\n",
    "\n",
    "    W = []\n",
    "\n",
    "    for word in words:\n",
    "        try:\n",
    "            W.append(w2v_mod[word])\n",
    "        except KeyError:\n",
    "            pass\n",
    "    W_n = np.array(W) # tag에 있는 모든 단어들에 대해서 300차원의 vector를 모아둔 n * 300 차원의 행렬\n",
    "\n",
    "    K = []\n",
    "\n",
    "    for key in keywords:\n",
    "        K.append(w2v_mod[key])\n",
    "\n",
    "    K_n = np.array(K) # 문장에서 얻어낸 keyword의 vector를 모아둔 k* 300 차원의 행렬\n",
    "    K_n = K_n.transpose() # W와 곱하기 위해서 transpose 해준 300 * k 행렬\n",
    "\n",
    "    s_temp = np.matmul(W_n , K_n) # keyword에 대해 각각 유사도 점수를 나타내는 행렬\n",
    "\n",
    "    S = np.sum(s_temp, axis=1) # 모든 keyword에 대해서 유사도를 합한 행렬\n",
    "    m = np.argmax(S) # max index (can know which tag is the max)\n",
    "\n",
    "    # 해당 index에 해당하는 모션이 많을 경우 랜덤으로 하나 뽑아줌\n",
    "    t = random.sample(idx[m],1)\n",
    "\n",
    "    # 해당 모션에 대해서 path를 받아옴\n",
    "    p = path[t[0]]\n",
    "    \n",
    "    return t[0]"
   ]
  },
  {
   "cell_type": "code",
   "execution_count": null,
   "metadata": {},
   "outputs": [],
   "source": []
  }
 ],
 "metadata": {
  "kernelspec": {
   "display_name": "Python 3",
   "language": "python",
   "name": "python3"
  },
  "language_info": {
   "codemirror_mode": {
    "name": "ipython",
    "version": 3
   },
   "file_extension": ".py",
   "mimetype": "text/x-python",
   "name": "python",
   "nbconvert_exporter": "python",
   "pygments_lexer": "ipython3",
   "version": "3.6.4"
  }
 },
 "nbformat": 4,
 "nbformat_minor": 2
}
