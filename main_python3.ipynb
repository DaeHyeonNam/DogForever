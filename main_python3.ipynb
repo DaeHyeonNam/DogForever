{
 "cells": [
  {
   "cell_type": "code",
   "execution_count": 1,
   "metadata": {
    "scrolled": true
   },
   "outputs": [
    {
     "name": "stdout",
     "output_type": "stream",
     "text": [
      "--2019-05-12 01:02:31--  https://s3.amazonaws.com/dl4j-distribution/GoogleNews-vectors-negative300.bin.gz\n",
      "Resolving s3.amazonaws.com (s3.amazonaws.com)... 52.216.139.181\n",
      "Connecting to s3.amazonaws.com (s3.amazonaws.com)|52.216.139.181|:443... connected.\n",
      "HTTP request sent, awaiting response... 416 Requested Range Not Satisfiable\n",
      "\n",
      "    The file is already fully retrieved; nothing to do.\n",
      "\n"
     ]
    }
   ],
   "source": [
    "!wget -c \"https://s3.amazonaws.com/dl4j-distribution/GoogleNews-vectors-negative300.bin.gz\""
   ]
  },
  {
   "cell_type": "code",
   "execution_count": 84,
   "metadata": {},
   "outputs": [],
   "source": [
    "import requests\n",
    "import json\n",
    "import nltk\n",
    "from nltk.corpus import state_union\n",
    "from nltk.tokenize import PunktSentenceTokenizer\n",
    "import numpy as np\n",
    "import re # 텍스트 전처리\n",
    "import csv, random\n",
    "from gensim.models import KeyedVectors # 미리 훈련된 단어 벡터 읽기\n",
    "from moviepy.editor import *\n",
    "import io\n",
    "import base64\n",
    "from IPython.display import HTML\n",
    "import io"
   ]
  },
  {
   "cell_type": "code",
   "execution_count": 63,
   "metadata": {},
   "outputs": [],
   "source": [
    "# https://cloud.google.com/storage/docs/reference/libraries?authuser=0\n",
    "\n",
    "def download_blob(bucket_name, source_blob_name, destination_file_name):\n",
    "    \"\"\"Downloads a blob from the bucket.\"\"\"\n",
    "    storage_client = cloud_storage.Client()\n",
    "    bucket = storage_client.get_bucket(bucket_name)\n",
    "    blob = bucket.blob(source_blob_name)\n",
    "\n",
    "    blob.download_to_filename(destination_file_name)\n",
    "\n",
    "    print('Blob {} downloaded to {}.'.format(\n",
    "        source_blob_name,\n",
    "        destination_file_name))\n",
    "\n",
    "def upload_blob(bucket_name, source_file_name, destination_blob_name):\n",
    "    \"\"\"Uploads a file to the bucket.\"\"\"\n",
    "    storage_client = cloud_storage.Client()\n",
    "    bucket = storage_client.get_bucket(bucket_name)\n",
    "    blob = bucket.blob(destination_blob_name)\n",
    "\n",
    "    blob.upload_from_filename(source_file_name)\n",
    "\n",
    "    print('File {} uploaded to {}.'.format(\n",
    "        source_file_name,\n",
    "        destination_blob_name))"
   ]
  },
  {
   "cell_type": "code",
   "execution_count": 14,
   "metadata": {},
   "outputs": [],
   "source": [
    "FILENAME = \"GoogleNews-vectors-negative300.bin.gz\"\n",
    "w2v_mod = KeyedVectors.load_word2vec_format(FILENAME, binary=True, limit=300000)"
   ]
  },
  {
   "cell_type": "code",
   "execution_count": 4,
   "metadata": {},
   "outputs": [],
   "source": [
    "def translate(input_txt, source=\"ko\", target=\"en\"):\n",
    "    cloud_url = \"https://naveropenapi.apigw.ntruss.com/nmt/v1/translation\"\n",
    "    r = requests.post(cloud_url,\n",
    "                      headers={\"X-NCP-APIGW-API-KEY-ID\":\"ikoxgv3qyf\",\n",
    "                               \"X-NCP-APIGW-API-KEY\":\"SfjIg59wfjz43peNO3yLy0XO152qJ7EU4uEGZTAX\"},\n",
    "                      data={\"source\": source, \"target\": target, \"text\": input_txt})\n",
    "    info = json.loads(r.text)\n",
    "    return info[\"message\"][\"result\"][\"translatedText\"]\n",
    "\n",
    "def getKeywords(sentence):\n",
    "    # input = 'hello I ate chicken'\n",
    "    # output = ['ate', 'chicken']\n",
    "    speechs = ['JJ','JJR','JJS','RB','RBR','UH','VB','VBD','VBG','VBN','VBP','VBZ','NN','NNS','NNP','NNPS']\n",
    "    txt = translate(sentence)\n",
    "    \n",
    "    sentences = nltk.sent_tokenize(txt)\n",
    "    data, datas = [], []\n",
    "    \n",
    "    for sent in sentences:\n",
    "        data = data + nltk.pos_tag(nltk.word_tokenize(sent))\n",
    "    # print(data)\n",
    "    for word in data:\n",
    "        if speechs.count(word[1])!= 0:\n",
    "            # print(word)\n",
    "            datas.append(word[0])\n",
    "    # print(datas)\n",
    "    return datas"
   ]
  },
  {
   "cell_type": "code",
   "execution_count": 53,
   "metadata": {},
   "outputs": [],
   "source": [
    "# TODO get keywords\n",
    "# 변수 설명\n",
    "# idx: word에 해당하는 index에 대해서  motion 번호를 입력해둠\n",
    "# word: tag 단어들\n",
    "# path: 각 모션의 path, 추후 api 사용하게 될 시에 필요함\n",
    "\n",
    "# keywords = ['play', 'cellphone', 'game', 'teammates', 'knowing']\n",
    "def most_relevant_tag(keywords):\n",
    "    f = io.open('data.csv', 'r', encoding='utf-8')\n",
    "    rdr = csv.reader(f)\n",
    "\n",
    "    words = []\n",
    "    path = []\n",
    "    idx = []\n",
    "\n",
    "    for i, line in enumerate(rdr):\n",
    "        n = 0\n",
    "        tmp = line[2:]\n",
    "        for w in tmp:\n",
    "            try:\n",
    "                w2v_mod[w]\n",
    "            except KeyError:\n",
    "                pass\n",
    "            else:\n",
    "                if w not in words and w != '':\n",
    "                    words.append(w)\n",
    "                    idx.append([i])\n",
    "                    n = n + 1\n",
    "                elif w != '':\n",
    "                    idx[words.index(w)].append(i)\n",
    "        path.append(line[1])\n",
    "\n",
    "    f.close()\n",
    "\n",
    "\n",
    "    s_temp = []\n",
    "\n",
    "    for k, word in enumerate(words):\n",
    "        s_temp.append([])\n",
    "        for j, key in enumerate(keywords):\n",
    "            s_temp[k].append(w2v_mod.similarity(word, key))\n",
    "\n",
    "    S = np.sum(s_temp, axis=1)/len(keywords) # 모든 keyword에 대해서 유사도를 합한 행렬\n",
    "\n",
    "    score = [0] * (i+1) # 각 영상들의 tag 점수를 더해서 tag 갯수로 나눈것\n",
    "    num = [0] * (i+1) # 영상들의 tag 갯수\n",
    "\n",
    "    for key, p in enumerate(idx):\n",
    "        for q in p:\n",
    "            score[q] = score[q] + S[key]\n",
    "            num[q] = num[q] + 1\n",
    "\n",
    "    score_norm = [0]*len(score) # 영상들의 tag의 평균 점수\n",
    "\n",
    "    for r in range(len(score)):\n",
    "        score_norm[r] = score[r]/num[r]\n",
    "\n",
    "    m = np.argmax(score_norm) # max index (can know which tag is the max)\n",
    "\n",
    "    # 해당 index에 해당하는 모션이 많을 경우 랜덤으로 하나 뽑아줌\n",
    "    # t = random.sample(idx[m],1)\n",
    "\n",
    "    # 해당 모션에 대해서 path를 받아옴\n",
    "    # p = path[t[0]]\n",
    "    p = path[m]\n",
    "    return str(m)  # return index"
   ]
  },
  {
   "cell_type": "code",
   "execution_count": 100,
   "metadata": {},
   "outputs": [],
   "source": [
    "def produceVideo(clip_list): \n",
    "    # input format = ['ANI_74', 'ANI_67', ....]\n",
    "    # assume that clips are saved locally as ANI_74.MOV, ANI_67.MOV, ...\n",
    "    if not clip_list:\n",
    "        print(\"NO CLIPS\")\n",
    "        return None\n",
    "    for i in range(len(clip_list)):\n",
    "        clip_list[i] = clip_list[i] + \".mp4\"\n",
    "    # print(\"clip_list = %s\" % clip_list)\n",
    "    temp = clip_list[0]\n",
    "    for i in range(len(clip_list)):\n",
    "        if i < len(clip_list)-1:\n",
    "            temp = concatenateVideo(temp, clip_list[i+1], \"temp%s.mp4\" % i)\n",
    "    return temp\n",
    "                \n",
    "def concatenateVideo(path_to_clip1='clip1.mp4', path_to_clip2='clip2.mp4', path_to_output='render.mp4'):\n",
    "    # clip1 + clip2 => output\n",
    "    clip1 = VideoFileClip(path_to_clip1)\n",
    "    clip2 = VideoFileClip(path_to_clip2)\n",
    "    finalrender = concatenate_videoclips([clip1, clip2])\n",
    "    finalrender.write_videofile(path_to_output, codec='libx264')\n",
    "    return path_to_output\n",
    "\n",
    "def showVideo(path_to_video='render.mp4'):\n",
    "    video = io.open(path_to_video, 'r+b').read()\n",
    "    encoded = base64.b64encode(video)\n",
    "    HTML(data='''<video alt=\"test\" controls>\n",
    "    <source src=\"data:video/mp4;base64,{0}\" type=\"video/mp4\" />\n",
    "    </video>'''.format(encoded.decode('ascii')))"
   ]
  },
  {
   "cell_type": "code",
   "execution_count": 85,
   "metadata": {},
   "outputs": [],
   "source": [
    "# https://console.firebase.google.com/u/0/?hl=ko\n",
    "# https://cloud.google.com/storage/docs/reference/libraries?authuser=0\n",
    "\n",
    "import firebase_admin\n",
    "from firebase_admin import credentials\n",
    "from firebase_admin import storage\n",
    "from google.cloud import storage as cloud_storage"
   ]
  },
  {
   "cell_type": "code",
   "execution_count": 86,
   "metadata": {},
   "outputs": [
    {
     "data": {
      "text/plain": [
       "<firebase_admin.App at 0x1c5a891490>"
      ]
     },
     "execution_count": 86,
     "metadata": {},
     "output_type": "execute_result"
    }
   ],
   "source": [
    "cred = credentials.Certificate('./serviceAccountKey.json')\n",
    "firebase_admin.initialize_app(credential=cred, options={\n",
    "    'storageBucket': 'forever-dog-3635a.appspot.com'\n",
    "}, name='hackathon!')"
   ]
  },
  {
   "cell_type": "code",
   "execution_count": 87,
   "metadata": {},
   "outputs": [
    {
     "name": "stdout",
     "output_type": "stream",
     "text": [
      "<Bucket: forever-dog.appspot.com>\n"
     ]
    },
    {
     "ename": "Forbidden",
     "evalue": "403 POST https://www.googleapis.com/upload/storage/v1/b/forever-dog.appspot.com/o?uploadType=multipart: (u'Request failed with status code', 403, u'Expected one of', 200)",
     "output_type": "error",
     "traceback": [
      "\u001b[0;31m---------------------------------------------------------------------------\u001b[0m",
      "\u001b[0;31mForbidden\u001b[0m                                 Traceback (most recent call last)",
      "\u001b[0;32m<ipython-input-87-213decbd4283>\u001b[0m in \u001b[0;36m<module>\u001b[0;34m()\u001b[0m\n\u001b[1;32m      4\u001b[0m \u001b[0mblob\u001b[0m \u001b[0;34m=\u001b[0m \u001b[0mbucket\u001b[0m\u001b[0;34m.\u001b[0m\u001b[0mblob\u001b[0m\u001b[0;34m(\u001b[0m\u001b[0;34m'diary.txt'\u001b[0m\u001b[0;34m)\u001b[0m\u001b[0;34m\u001b[0m\u001b[0m\n\u001b[1;32m      5\u001b[0m \u001b[0moutfile\u001b[0m\u001b[0;34m=\u001b[0m\u001b[0;34m'./diary.txt'\u001b[0m\u001b[0;34m\u001b[0m\u001b[0m\n\u001b[0;32m----> 6\u001b[0;31m \u001b[0mblob\u001b[0m\u001b[0;34m.\u001b[0m\u001b[0mupload_from_filename\u001b[0m\u001b[0;34m(\u001b[0m\u001b[0moutfile\u001b[0m\u001b[0;34m)\u001b[0m\u001b[0;34m\u001b[0m\u001b[0m\n\u001b[0m",
      "\u001b[0;32m/Users/mina/anaconda2/lib/python2.7/site-packages/google/cloud/storage/blob.pyc\u001b[0m in \u001b[0;36mupload_from_filename\u001b[0;34m(self, filename, content_type, client, predefined_acl)\u001b[0m\n\u001b[1;32m   1210\u001b[0m                 \u001b[0mclient\u001b[0m\u001b[0;34m=\u001b[0m\u001b[0mclient\u001b[0m\u001b[0;34m,\u001b[0m\u001b[0;34m\u001b[0m\u001b[0m\n\u001b[1;32m   1211\u001b[0m                 \u001b[0msize\u001b[0m\u001b[0;34m=\u001b[0m\u001b[0mtotal_bytes\u001b[0m\u001b[0;34m,\u001b[0m\u001b[0;34m\u001b[0m\u001b[0m\n\u001b[0;32m-> 1212\u001b[0;31m                 \u001b[0mpredefined_acl\u001b[0m\u001b[0;34m=\u001b[0m\u001b[0mpredefined_acl\u001b[0m\u001b[0;34m,\u001b[0m\u001b[0;34m\u001b[0m\u001b[0m\n\u001b[0m\u001b[1;32m   1213\u001b[0m             )\n\u001b[1;32m   1214\u001b[0m \u001b[0;34m\u001b[0m\u001b[0m\n",
      "\u001b[0;32m/Users/mina/anaconda2/lib/python2.7/site-packages/google/cloud/storage/blob.pyc\u001b[0m in \u001b[0;36mupload_from_file\u001b[0;34m(self, file_obj, rewind, size, content_type, num_retries, client, predefined_acl)\u001b[0m\n\u001b[1;32m   1159\u001b[0m             \u001b[0mself\u001b[0m\u001b[0;34m.\u001b[0m\u001b[0m_set_properties\u001b[0m\u001b[0;34m(\u001b[0m\u001b[0mcreated_json\u001b[0m\u001b[0;34m)\u001b[0m\u001b[0;34m\u001b[0m\u001b[0m\n\u001b[1;32m   1160\u001b[0m         \u001b[0;32mexcept\u001b[0m \u001b[0mresumable_media\u001b[0m\u001b[0;34m.\u001b[0m\u001b[0mInvalidResponse\u001b[0m \u001b[0;32mas\u001b[0m \u001b[0mexc\u001b[0m\u001b[0;34m:\u001b[0m\u001b[0;34m\u001b[0m\u001b[0m\n\u001b[0;32m-> 1161\u001b[0;31m             \u001b[0m_raise_from_invalid_response\u001b[0m\u001b[0;34m(\u001b[0m\u001b[0mexc\u001b[0m\u001b[0;34m)\u001b[0m\u001b[0;34m\u001b[0m\u001b[0m\n\u001b[0m\u001b[1;32m   1162\u001b[0m \u001b[0;34m\u001b[0m\u001b[0m\n\u001b[1;32m   1163\u001b[0m     def upload_from_filename(\n",
      "\u001b[0;32m/Users/mina/anaconda2/lib/python2.7/site-packages/google/cloud/storage/blob.pyc\u001b[0m in \u001b[0;36m_raise_from_invalid_response\u001b[0;34m(error)\u001b[0m\n\u001b[1;32m   2032\u001b[0m     )\n\u001b[1;32m   2033\u001b[0m \u001b[0;34m\u001b[0m\u001b[0m\n\u001b[0;32m-> 2034\u001b[0;31m     \u001b[0;32mraise\u001b[0m \u001b[0mexceptions\u001b[0m\u001b[0;34m.\u001b[0m\u001b[0mfrom_http_status\u001b[0m\u001b[0;34m(\u001b[0m\u001b[0mresponse\u001b[0m\u001b[0;34m.\u001b[0m\u001b[0mstatus_code\u001b[0m\u001b[0;34m,\u001b[0m \u001b[0mmessage\u001b[0m\u001b[0;34m,\u001b[0m \u001b[0mresponse\u001b[0m\u001b[0;34m=\u001b[0m\u001b[0mresponse\u001b[0m\u001b[0;34m)\u001b[0m\u001b[0;34m\u001b[0m\u001b[0m\n\u001b[0m\u001b[1;32m   2035\u001b[0m \u001b[0;34m\u001b[0m\u001b[0m\n\u001b[1;32m   2036\u001b[0m \u001b[0;34m\u001b[0m\u001b[0m\n",
      "\u001b[0;31mForbidden\u001b[0m: 403 POST https://www.googleapis.com/upload/storage/v1/b/forever-dog.appspot.com/o?uploadType=multipart: (u'Request failed with status code', 403, u'Expected one of', 200)"
     ]
    }
   ],
   "source": [
    "# https://console.firebase.google.com/u/0/project/forever-dog-3635a/storage/forever-dog-3635a.appspot.com/files?hl=ko\n",
    "bucket = storage.bucket()\n",
    "print(bucket)\n",
    "blob = bucket.blob('diary.txt')\n",
    "outfile='./diary.txt'\n",
    "blob.upload_from_filename(outfile)"
   ]
  },
  {
   "cell_type": "code",
   "execution_count": 111,
   "metadata": {},
   "outputs": [
    {
     "name": "stdout",
     "output_type": "stream",
     "text": [
      "sentence = Today was a very happy day.\n",
      "keywords = [u'Today', u'was', u'very', u'happy', u'day']\n",
      "sentence = I won the dance festival award.\n",
      "keywords = [u'won', u'Dance', u'Festival', u'award']\n",
      "sentence = Everyone clapped their hands.\n",
      "keywords = [u'Everyone', u'clapped', u'hands']\n",
      "sentence = It was exciting, Ho !\n",
      "keywords = [u'was', u'expiring', u'Ho']\n",
      "sentence = Bye.\n",
      "keywords = [u'Bye']\n",
      "clips index = ['67', '40', '11', '23', '38']\n"
     ]
    },
    {
     "name": "stderr",
     "output_type": "stream",
     "text": [
      "chunk:  27%|██▋       | 46/171 [00:00<00:00, 449.64it/s, now=None]"
     ]
    },
    {
     "name": "stdout",
     "output_type": "stream",
     "text": [
      "Moviepy - Building video temp0.mp4.\n",
      "MoviePy - Writing audio in %s\n"
     ]
    },
    {
     "name": "stderr",
     "output_type": "stream",
     "text": [
      "t:   4%|▍         | 7/186 [00:00<00:02, 66.59it/s, now=None]       "
     ]
    },
    {
     "name": "stdout",
     "output_type": "stream",
     "text": [
      "MoviePy - Done.\n",
      "Moviepy - Writing video temp0.mp4\n",
      "\n"
     ]
    },
    {
     "name": "stderr",
     "output_type": "stream",
     "text": [
      "                                                              \r"
     ]
    },
    {
     "name": "stdout",
     "output_type": "stream",
     "text": [
      "Moviepy - Done !\n",
      "Moviepy - video ready temp0.mp4\n"
     ]
    },
    {
     "name": "stderr",
     "output_type": "stream",
     "text": [
      "chunk:  12%|█▏        | 32/259 [00:00<00:00, 303.56it/s, now=None]"
     ]
    },
    {
     "name": "stdout",
     "output_type": "stream",
     "text": [
      "Moviepy - Building video temp1.mp4.\n",
      "MoviePy - Writing audio in %s\n"
     ]
    },
    {
     "name": "stderr",
     "output_type": "stream",
     "text": [
      "t:   4%|▍         | 11/282 [00:00<00:02, 108.63it/s, now=None]     "
     ]
    },
    {
     "name": "stdout",
     "output_type": "stream",
     "text": [
      "MoviePy - Done.\n",
      "Moviepy - Writing video temp1.mp4\n",
      "\n"
     ]
    },
    {
     "name": "stderr",
     "output_type": "stream",
     "text": [
      "                                                              \r"
     ]
    },
    {
     "name": "stdout",
     "output_type": "stream",
     "text": [
      "Moviepy - Done !\n",
      "Moviepy - video ready temp1.mp4\n"
     ]
    },
    {
     "name": "stderr",
     "output_type": "stream",
     "text": [
      "chunk:  13%|█▎        | 42/334 [00:00<00:00, 410.28it/s, now=None]"
     ]
    },
    {
     "name": "stdout",
     "output_type": "stream",
     "text": [
      "Moviepy - Building video temp2.mp4.\n",
      "MoviePy - Writing audio in %s\n"
     ]
    },
    {
     "name": "stderr",
     "output_type": "stream",
     "text": [
      "t:   3%|▎         | 11/364 [00:00<00:03, 107.01it/s, now=None]     "
     ]
    },
    {
     "name": "stdout",
     "output_type": "stream",
     "text": [
      "MoviePy - Done.\n",
      "Moviepy - Writing video temp2.mp4\n",
      "\n"
     ]
    },
    {
     "name": "stderr",
     "output_type": "stream",
     "text": [
      "                                                              \r"
     ]
    },
    {
     "name": "stdout",
     "output_type": "stream",
     "text": [
      "Moviepy - Done !\n",
      "Moviepy - video ready temp2.mp4\n"
     ]
    },
    {
     "name": "stderr",
     "output_type": "stream",
     "text": [
      "chunk:   9%|▉         | 38/410 [00:00<00:00, 372.85it/s, now=None]"
     ]
    },
    {
     "name": "stdout",
     "output_type": "stream",
     "text": [
      "Moviepy - Building video temp3.mp4.\n",
      "MoviePy - Writing audio in %s\n"
     ]
    },
    {
     "name": "stderr",
     "output_type": "stream",
     "text": [
      "t:   2%|▏         | 9/446 [00:00<00:05, 85.94it/s, now=None]       "
     ]
    },
    {
     "name": "stdout",
     "output_type": "stream",
     "text": [
      "MoviePy - Done.\n",
      "Moviepy - Writing video temp3.mp4\n",
      "\n"
     ]
    },
    {
     "name": "stderr",
     "output_type": "stream",
     "text": [
      "                                                              \r"
     ]
    },
    {
     "name": "stdout",
     "output_type": "stream",
     "text": [
      "Moviepy - Done !\n",
      "Moviepy - video ready temp3.mp4\n"
     ]
    },
    {
     "name": "stderr",
     "output_type": "stream",
     "text": [
      "\r",
      "chunk:   0%|          | 0/427 [00:00<?, ?it/s, now=None]"
     ]
    },
    {
     "name": "stdout",
     "output_type": "stream",
     "text": [
      "Moviepy - Building video movie_resized.mp4.\n",
      "MoviePy - Writing audio in %s\n"
     ]
    },
    {
     "name": "stderr",
     "output_type": "stream",
     "text": [
      "t:   1%|          | 5/447 [00:00<00:09, 48.87it/s, now=None]       "
     ]
    },
    {
     "name": "stdout",
     "output_type": "stream",
     "text": [
      "MoviePy - Done.\n",
      "Moviepy - Writing video movie_resized.mp4\n",
      "\n"
     ]
    },
    {
     "name": "stderr",
     "output_type": "stream",
     "text": [
      "                                                              \r"
     ]
    },
    {
     "name": "stdout",
     "output_type": "stream",
     "text": [
      "Moviepy - Done !\n",
      "Moviepy - video ready movie_resized.mp4\n"
     ]
    }
   ],
   "source": [
    "if __name__ == \"__main__\":\n",
    "    clips = []\n",
    "    # Get diary.txt from firebase!\n",
    "    # download_blob(\"forever-dog.appspot.com\", \"diary?\", \"./diary.txt\")\n",
    "    f = open(\"diary.txt\", 'r')\n",
    "    for line in f:\n",
    "        sentence = line.split('\\n')[0]\n",
    "        print(\"sentence = %s\" % sentence)\n",
    "        keywords = getKeywords(sentence)  # sentence -> keywords\n",
    "        print(\"keywords = %s\" % keywords)   \n",
    "        clipIndex = most_relevant_tag(keywords)  # keywords -> video!\n",
    "        clips.append(clipIndex)\n",
    "    f.close()\n",
    "      \n",
    "    print(\"clips index = %s\" % clips)\n",
    "    # clips = ['clip1', 'clip2']  # clip 되면 \n",
    "    # clips = ['67', '40', '11']\n",
    "    path_to_resultVideo = produceVideo(clips)\n",
    "    # 964 480\n",
    "    clip_revised = VideoFileClip(path_to_resultVideo)\n",
    "    clip_resized = clip_revised.resize((480, 964)) # make the height 360px ( According to moviePy documenation The width is then computed so that the width/height ratio is conserved.)\n",
    "    audio_background = AudioFileClip('background.mp3')\n",
    "    final_audio = CompositeAudioClip([clip_resized.audio, audio_background])\n",
    "    final_clip = clip_resized.set_audio(final_audio)\n",
    "    # clip_resized.write_videofile(\"movie_resized.mp4\")\n",
    "    final_clip.write_videofile(\"movie_resized.mp4\")\n",
    "    # video = io.open(path_to_resultVideo, 'r+b').read()\n",
    "    # encoded = base64.b64encode(video)\n",
    "    # HTML(data='''<video alt=\"test\" controls>\n",
    "    # <source src=\"data:video/mp4;base64,{0}\" type=\"video/mp4\" />\n",
    "    # </video>'''.format(encoded.decode('ascii')))\n",
    "    \n",
    "    # upload_blob(\"forever-dog-3635a.appspot.com\", \"./render.mp4\", \"clip\")\n",
    "\n",
    "    # 행동하면서 낭독까지??? videobooth \n",
    "    # 비디오부스를 뭐로 분류할지? 소팅 --> 서칭이 안되니까.\n",
    "    # 거기서도 라벨링은 수동으로 : 감정은 아직. 기본적 행동만. 현재는. 대분류 - 소분류 고민중.\n",
    "    # ㅇㄹㅇㄹㅇㄹㅇㄹㅇㄹ: 어떻게 한꺼번에 다운???\n",
    "    # 디자인은 이렇게 하겠습니다.\n",
    "    \n",
    "    "
   ]
  }
 ],
 "metadata": {
  "kernelspec": {
   "display_name": "Python 3",
   "language": "python",
   "name": "python3"
  },
  "language_info": {
   "codemirror_mode": {
    "name": "ipython",
    "version": 2
   },
   "file_extension": ".py",
   "mimetype": "text/x-python",
   "name": "python",
   "nbconvert_exporter": "python",
   "pygments_lexer": "ipython2",
   "version": "2.7.16"
  }
 },
 "nbformat": 4,
 "nbformat_minor": 2
}
